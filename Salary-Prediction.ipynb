{
 "cells": [
  {
   "cell_type": "markdown",
   "metadata": {},
   "source": [
    "# Salary Predictions Based on Job Descriptions"
   ]
  },
  {
   "cell_type": "markdown",
   "metadata": {},
   "source": [
    "## DEFINE"
   ]
  },
  {
   "cell_type": "markdown",
   "metadata": {},
   "source": [
    "This is a project aimed for predicting future salaries of job postings based on salaries of current job postings. The language of choice to tackle this problem is Python."
   ]
  },
  {
   "cell_type": "code",
   "execution_count": 1,
   "metadata": {},
   "outputs": [],
   "source": [
    "#importing libraries\n",
    "import pandas as pd\n",
    "import numpy as np\n",
    "import matplotlib.pyplot as plt\n",
    "import seaborn as sns\n",
    "__author__ = \"Lukas Barbuscak\"\n",
    "__email__ = \"lukas.barbuscak@gmail.com\""
   ]
  },
  {
   "cell_type": "markdown",
   "metadata": {},
   "source": [
    "## DISCOVER"
   ]
  },
  {
   "cell_type": "code",
   "execution_count": 2,
   "metadata": {
    "scrolled": true
   },
   "outputs": [
    {
     "data": {
      "text/html": [
       "<div>\n",
       "<style scoped>\n",
       "    .dataframe tbody tr th:only-of-type {\n",
       "        vertical-align: middle;\n",
       "    }\n",
       "\n",
       "    .dataframe tbody tr th {\n",
       "        vertical-align: top;\n",
       "    }\n",
       "\n",
       "    .dataframe thead th {\n",
       "        text-align: right;\n",
       "    }\n",
       "</style>\n",
       "<table border=\"1\" class=\"dataframe\">\n",
       "  <thead>\n",
       "    <tr style=\"text-align: right;\">\n",
       "      <th></th>\n",
       "      <th>jobId</th>\n",
       "      <th>companyId</th>\n",
       "      <th>jobType</th>\n",
       "      <th>degree</th>\n",
       "      <th>major</th>\n",
       "      <th>industry</th>\n",
       "      <th>yearsExperience</th>\n",
       "      <th>milesFromMetropolis</th>\n",
       "      <th>salary</th>\n",
       "    </tr>\n",
       "  </thead>\n",
       "  <tbody>\n",
       "    <tr>\n",
       "      <th>0</th>\n",
       "      <td>JOB1362684407687</td>\n",
       "      <td>COMP37</td>\n",
       "      <td>CFO</td>\n",
       "      <td>MASTERS</td>\n",
       "      <td>MATH</td>\n",
       "      <td>HEALTH</td>\n",
       "      <td>10</td>\n",
       "      <td>83</td>\n",
       "      <td>130</td>\n",
       "    </tr>\n",
       "    <tr>\n",
       "      <th>1</th>\n",
       "      <td>JOB1362684407688</td>\n",
       "      <td>COMP19</td>\n",
       "      <td>CEO</td>\n",
       "      <td>HIGH_SCHOOL</td>\n",
       "      <td>NONE</td>\n",
       "      <td>WEB</td>\n",
       "      <td>3</td>\n",
       "      <td>73</td>\n",
       "      <td>101</td>\n",
       "    </tr>\n",
       "    <tr>\n",
       "      <th>2</th>\n",
       "      <td>JOB1362684407689</td>\n",
       "      <td>COMP52</td>\n",
       "      <td>VICE_PRESIDENT</td>\n",
       "      <td>DOCTORAL</td>\n",
       "      <td>PHYSICS</td>\n",
       "      <td>HEALTH</td>\n",
       "      <td>10</td>\n",
       "      <td>38</td>\n",
       "      <td>137</td>\n",
       "    </tr>\n",
       "    <tr>\n",
       "      <th>3</th>\n",
       "      <td>JOB1362684407690</td>\n",
       "      <td>COMP38</td>\n",
       "      <td>MANAGER</td>\n",
       "      <td>DOCTORAL</td>\n",
       "      <td>CHEMISTRY</td>\n",
       "      <td>AUTO</td>\n",
       "      <td>8</td>\n",
       "      <td>17</td>\n",
       "      <td>142</td>\n",
       "    </tr>\n",
       "    <tr>\n",
       "      <th>4</th>\n",
       "      <td>JOB1362684407691</td>\n",
       "      <td>COMP7</td>\n",
       "      <td>VICE_PRESIDENT</td>\n",
       "      <td>BACHELORS</td>\n",
       "      <td>PHYSICS</td>\n",
       "      <td>FINANCE</td>\n",
       "      <td>8</td>\n",
       "      <td>16</td>\n",
       "      <td>163</td>\n",
       "    </tr>\n",
       "    <tr>\n",
       "      <th>5</th>\n",
       "      <td>JOB1362684407692</td>\n",
       "      <td>COMP15</td>\n",
       "      <td>MANAGER</td>\n",
       "      <td>DOCTORAL</td>\n",
       "      <td>COMPSCI</td>\n",
       "      <td>FINANCE</td>\n",
       "      <td>2</td>\n",
       "      <td>31</td>\n",
       "      <td>113</td>\n",
       "    </tr>\n",
       "    <tr>\n",
       "      <th>6</th>\n",
       "      <td>JOB1362684407693</td>\n",
       "      <td>COMP15</td>\n",
       "      <td>CFO</td>\n",
       "      <td>NONE</td>\n",
       "      <td>NONE</td>\n",
       "      <td>HEALTH</td>\n",
       "      <td>23</td>\n",
       "      <td>24</td>\n",
       "      <td>178</td>\n",
       "    </tr>\n",
       "    <tr>\n",
       "      <th>7</th>\n",
       "      <td>JOB1362684407694</td>\n",
       "      <td>COMP24</td>\n",
       "      <td>JUNIOR</td>\n",
       "      <td>BACHELORS</td>\n",
       "      <td>CHEMISTRY</td>\n",
       "      <td>EDUCATION</td>\n",
       "      <td>9</td>\n",
       "      <td>70</td>\n",
       "      <td>73</td>\n",
       "    </tr>\n",
       "    <tr>\n",
       "      <th>8</th>\n",
       "      <td>JOB1362684407695</td>\n",
       "      <td>COMP20</td>\n",
       "      <td>JANITOR</td>\n",
       "      <td>HIGH_SCHOOL</td>\n",
       "      <td>NONE</td>\n",
       "      <td>EDUCATION</td>\n",
       "      <td>1</td>\n",
       "      <td>54</td>\n",
       "      <td>31</td>\n",
       "    </tr>\n",
       "    <tr>\n",
       "      <th>9</th>\n",
       "      <td>JOB1362684407696</td>\n",
       "      <td>COMP41</td>\n",
       "      <td>VICE_PRESIDENT</td>\n",
       "      <td>BACHELORS</td>\n",
       "      <td>CHEMISTRY</td>\n",
       "      <td>AUTO</td>\n",
       "      <td>17</td>\n",
       "      <td>68</td>\n",
       "      <td>104</td>\n",
       "    </tr>\n",
       "  </tbody>\n",
       "</table>\n",
       "</div>"
      ],
      "text/plain": [
       "              jobId companyId         jobType       degree      major  \\\n",
       "0  JOB1362684407687    COMP37             CFO      MASTERS       MATH   \n",
       "1  JOB1362684407688    COMP19             CEO  HIGH_SCHOOL       NONE   \n",
       "2  JOB1362684407689    COMP52  VICE_PRESIDENT     DOCTORAL    PHYSICS   \n",
       "3  JOB1362684407690    COMP38         MANAGER     DOCTORAL  CHEMISTRY   \n",
       "4  JOB1362684407691     COMP7  VICE_PRESIDENT    BACHELORS    PHYSICS   \n",
       "5  JOB1362684407692    COMP15         MANAGER     DOCTORAL    COMPSCI   \n",
       "6  JOB1362684407693    COMP15             CFO         NONE       NONE   \n",
       "7  JOB1362684407694    COMP24          JUNIOR    BACHELORS  CHEMISTRY   \n",
       "8  JOB1362684407695    COMP20         JANITOR  HIGH_SCHOOL       NONE   \n",
       "9  JOB1362684407696    COMP41  VICE_PRESIDENT    BACHELORS  CHEMISTRY   \n",
       "\n",
       "    industry  yearsExperience  milesFromMetropolis  salary  \n",
       "0     HEALTH               10                   83     130  \n",
       "1        WEB                3                   73     101  \n",
       "2     HEALTH               10                   38     137  \n",
       "3       AUTO                8                   17     142  \n",
       "4    FINANCE                8                   16     163  \n",
       "5    FINANCE                2                   31     113  \n",
       "6     HEALTH               23                   24     178  \n",
       "7  EDUCATION                9                   70      73  \n",
       "8  EDUCATION                1                   54      31  \n",
       "9       AUTO               17                   68     104  "
      ]
     },
     "execution_count": 2,
     "metadata": {},
     "output_type": "execute_result"
    }
   ],
   "source": [
    "#loading the data\n",
    "df_features = pd.read_csv(\"data\\\\train_features.csv\")\n",
    "df_salaries = pd.read_csv(\"data\\\\train_salaries.csv\")\n",
    "df_test = pd.read_csv(\"data\\\\test_features.csv\")\n",
    "\n",
    "#merging the features and salaries datasets based on JobId\n",
    "df = pd.merge(df_features, df_salaries, on=\"jobId\")\n",
    "\n",
    "#releasing memory\n",
    "del df_features, df_salaries\n",
    "\n",
    "#examining the dataset\n",
    "df.head(10)"
   ]
  },
  {
   "cell_type": "markdown",
   "metadata": {},
   "source": [
    "### Cleaning the dataset"
   ]
  },
  {
   "cell_type": "code",
   "execution_count": 3,
   "metadata": {},
   "outputs": [
    {
     "name": "stdout",
     "output_type": "stream",
     "text": [
      "<class 'pandas.core.frame.DataFrame'>\n",
      "Int64Index: 1000000 entries, 0 to 999999\n",
      "Data columns (total 9 columns):\n",
      " #   Column               Non-Null Count    Dtype \n",
      "---  ------               --------------    ----- \n",
      " 0   jobId                1000000 non-null  object\n",
      " 1   companyId            1000000 non-null  object\n",
      " 2   jobType              1000000 non-null  object\n",
      " 3   degree               1000000 non-null  object\n",
      " 4   major                1000000 non-null  object\n",
      " 5   industry             1000000 non-null  object\n",
      " 6   yearsExperience      1000000 non-null  int64 \n",
      " 7   milesFromMetropolis  1000000 non-null  int64 \n",
      " 8   salary               1000000 non-null  int64 \n",
      "dtypes: int64(3), object(6)\n",
      "memory usage: 76.3+ MB\n"
     ]
    }
   ],
   "source": [
    "#checking the dataset\n",
    "df.info()"
   ]
  },
  {
   "cell_type": "markdown",
   "metadata": {},
   "source": [
    "Overall, the dataset looks very clean. Numeric values are stored as floats and string values are stored as objects. Let's check for any possible irregularities in the data."
   ]
  },
  {
   "cell_type": "code",
   "execution_count": 4,
   "metadata": {
    "scrolled": false
   },
   "outputs": [
    {
     "data": {
      "text/plain": [
       "jobId                  0\n",
       "companyId              0\n",
       "jobType                0\n",
       "degree                 0\n",
       "major                  0\n",
       "industry               0\n",
       "yearsExperience        0\n",
       "milesFromMetropolis    0\n",
       "salary                 0\n",
       "dtype: int64"
      ]
     },
     "execution_count": 4,
     "metadata": {},
     "output_type": "execute_result"
    }
   ],
   "source": [
    "#checking for the total number of missing values\n",
    "df.isnull().sum()"
   ]
  },
  {
   "cell_type": "code",
   "execution_count": 5,
   "metadata": {
    "scrolled": true
   },
   "outputs": [
    {
     "data": {
      "text/plain": [
       "jobId                      0\n",
       "companyId                  0\n",
       "jobType                    0\n",
       "degree                     0\n",
       "major                      0\n",
       "industry                   0\n",
       "yearsExperience        39839\n",
       "milesFromMetropolis    10123\n",
       "salary                     5\n",
       "dtype: int64"
      ]
     },
     "execution_count": 5,
     "metadata": {},
     "output_type": "execute_result"
    }
   ],
   "source": [
    "#checking if missing values are encoded as \"0\"\n",
    "df.eq(0).sum()"
   ]
  },
  {
   "cell_type": "markdown",
   "metadata": {},
   "source": [
    "I assume that 0 in years of experience is not a sign of missing values, since someone can have experience less than 1 year. I also assume that miles from Metropolis being 0 is not an issue, since being from Metropolis means distance to Metropolis would indeed be 0. However, salary being 0 either indicates a missing value, or volunteering, and that is not relevant for the model. I will drop the observations."
   ]
  },
  {
   "cell_type": "code",
   "execution_count": 6,
   "metadata": {},
   "outputs": [],
   "source": [
    "#dropping observations which have salary as 0\n",
    "df.drop(df[df.salary == 0].index, inplace=True)"
   ]
  },
  {
   "cell_type": "code",
   "execution_count": 7,
   "metadata": {
    "scrolled": true
   },
   "outputs": [
    {
     "name": "stdout",
     "output_type": "stream",
     "text": [
      "Job type values: ['CFO' 'CEO' 'VICE_PRESIDENT' 'MANAGER' 'JUNIOR' 'JANITOR' 'CTO' 'SENIOR']\n",
      "Degree values: ['MASTERS' 'HIGH_SCHOOL' 'DOCTORAL' 'BACHELORS' 'NONE']\n",
      "Major values: ['MATH' 'NONE' 'PHYSICS' 'CHEMISTRY' 'COMPSCI' 'BIOLOGY' 'LITERATURE'\n",
      " 'BUSINESS' 'ENGINEERING']\n",
      "Industry values: ['HEALTH' 'WEB' 'AUTO' 'FINANCE' 'EDUCATION' 'OIL' 'SERVICE']\n"
     ]
    }
   ],
   "source": [
    "#checking for possible irregularities for object dtypes\n",
    "print(\"Job type values:\", df.jobType.unique())\n",
    "print(\"Degree values:\", df.degree.unique())\n",
    "print(\"Major values:\", df.major.unique())\n",
    "print(\"Industry values:\", df.industry.unique())"
   ]
  },
  {
   "cell_type": "code",
   "execution_count": 8,
   "metadata": {},
   "outputs": [
    {
     "data": {
      "text/html": [
       "<div>\n",
       "<style scoped>\n",
       "    .dataframe tbody tr th:only-of-type {\n",
       "        vertical-align: middle;\n",
       "    }\n",
       "\n",
       "    .dataframe tbody tr th {\n",
       "        vertical-align: top;\n",
       "    }\n",
       "\n",
       "    .dataframe thead th {\n",
       "        text-align: right;\n",
       "    }\n",
       "</style>\n",
       "<table border=\"1\" class=\"dataframe\">\n",
       "  <thead>\n",
       "    <tr style=\"text-align: right;\">\n",
       "      <th></th>\n",
       "      <th>yearsExperience</th>\n",
       "      <th>milesFromMetropolis</th>\n",
       "      <th>salary</th>\n",
       "    </tr>\n",
       "  </thead>\n",
       "  <tbody>\n",
       "    <tr>\n",
       "      <th>count</th>\n",
       "      <td>999995.000000</td>\n",
       "      <td>999995.000000</td>\n",
       "      <td>999995.000000</td>\n",
       "    </tr>\n",
       "    <tr>\n",
       "      <th>mean</th>\n",
       "      <td>11.992407</td>\n",
       "      <td>49.529381</td>\n",
       "      <td>116.062398</td>\n",
       "    </tr>\n",
       "    <tr>\n",
       "      <th>std</th>\n",
       "      <td>7.212390</td>\n",
       "      <td>28.877721</td>\n",
       "      <td>38.717163</td>\n",
       "    </tr>\n",
       "    <tr>\n",
       "      <th>min</th>\n",
       "      <td>0.000000</td>\n",
       "      <td>0.000000</td>\n",
       "      <td>17.000000</td>\n",
       "    </tr>\n",
       "    <tr>\n",
       "      <th>25%</th>\n",
       "      <td>6.000000</td>\n",
       "      <td>25.000000</td>\n",
       "      <td>88.000000</td>\n",
       "    </tr>\n",
       "    <tr>\n",
       "      <th>50%</th>\n",
       "      <td>12.000000</td>\n",
       "      <td>50.000000</td>\n",
       "      <td>114.000000</td>\n",
       "    </tr>\n",
       "    <tr>\n",
       "      <th>75%</th>\n",
       "      <td>18.000000</td>\n",
       "      <td>75.000000</td>\n",
       "      <td>141.000000</td>\n",
       "    </tr>\n",
       "    <tr>\n",
       "      <th>max</th>\n",
       "      <td>24.000000</td>\n",
       "      <td>99.000000</td>\n",
       "      <td>301.000000</td>\n",
       "    </tr>\n",
       "  </tbody>\n",
       "</table>\n",
       "</div>"
      ],
      "text/plain": [
       "       yearsExperience  milesFromMetropolis         salary\n",
       "count    999995.000000        999995.000000  999995.000000\n",
       "mean         11.992407            49.529381     116.062398\n",
       "std           7.212390            28.877721      38.717163\n",
       "min           0.000000             0.000000      17.000000\n",
       "25%           6.000000            25.000000      88.000000\n",
       "50%          12.000000            50.000000     114.000000\n",
       "75%          18.000000            75.000000     141.000000\n",
       "max          24.000000            99.000000     301.000000"
      ]
     },
     "execution_count": 8,
     "metadata": {},
     "output_type": "execute_result"
    }
   ],
   "source": [
    "#checking for possible irregularities for numeric dtypes\n",
    "df.describe()"
   ]
  },
  {
   "cell_type": "markdown",
   "metadata": {},
   "source": [
    "There seem to be no issues with the first two columns, but salary might have possible outliers. Let's check this using a box plot."
   ]
  },
  {
   "cell_type": "code",
   "execution_count": 9,
   "metadata": {
    "scrolled": true
   },
   "outputs": [
    {
     "data": {
      "image/png": "[encoded data removed]",
      "text/plain": [
       "<Figure size 432x288 with 1 Axes>"
      ]
     },
     "metadata": {
      "needs_background": "light"
     },
     "output_type": "display_data"
    }
   ],
   "source": [
    "#creating a box plot\n",
    "df.boxplot(column=[\"salary\"])\n",
    "plt.show()"
   ]
  },
  {
   "cell_type": "code",
   "execution_count": 10,
   "metadata": {
    "scrolled": true
   },
   "outputs": [
    {
     "name": "stdout",
     "output_type": "stream",
     "text": [
      "The percentage of outliers is: 1.3569067845339227\n"
     ]
    }
   ],
   "source": [
    "#checking the percentage of outliers\n",
    "salary_outliers = np.sum(df[\"salary\"]>=210)\n",
    "print(\"The percentage of outliers is:\", salary_outliers/df[\"salary\"].count()*100)"
   ]
  },
  {
   "cell_type": "markdown",
   "metadata": {},
   "source": [
    "Because the percentage is relatively large and they do not appear to be errors, I will keep the outliers in the dataset."
   ]
  },
  {
   "cell_type": "code",
   "execution_count": 11,
   "metadata": {},
   "outputs": [
    {
     "name": "stdout",
     "output_type": "stream",
     "text": [
      "(999995, 9)\n",
      "(999809, 8)\n"
     ]
    }
   ],
   "source": [
    "#checking for duplicate Job ID values\n",
    "df_no_duplicates = df.drop('jobId', axis=1).drop_duplicates()\n",
    "print(df.shape)\n",
    "print(df_no_duplicates.shape)"
   ]
  },
  {
   "cell_type": "code",
   "execution_count": 12,
   "metadata": {},
   "outputs": [
    {
     "name": "stdout",
     "output_type": "stream",
     "text": [
      "(999809, 8)\n"
     ]
    }
   ],
   "source": [
    "#applying the changes to the original dataset\n",
    "df = df_no_duplicates\n",
    "print(df.shape)\n",
    "\n",
    "del df_no_duplicates"
   ]
  },
  {
   "cell_type": "markdown",
   "metadata": {},
   "source": [
    "### Exploratory Data Analysis"
   ]
  },
  {
   "cell_type": "code",
   "execution_count": 13,
   "metadata": {},
   "outputs": [
    {
     "data": {
      "text/html": [
       "<div>\n",
       "<style scoped>\n",
       "    .dataframe tbody tr th:only-of-type {\n",
       "        vertical-align: middle;\n",
       "    }\n",
       "\n",
       "    .dataframe tbody tr th {\n",
       "        vertical-align: top;\n",
       "    }\n",
       "\n",
       "    .dataframe thead th {\n",
       "        text-align: right;\n",
       "    }\n",
       "</style>\n",
       "<table border=\"1\" class=\"dataframe\">\n",
       "  <thead>\n",
       "    <tr style=\"text-align: right;\">\n",
       "      <th></th>\n",
       "      <th>yearsExperience</th>\n",
       "      <th>milesFromMetropolis</th>\n",
       "      <th>salary</th>\n",
       "    </tr>\n",
       "    <tr>\n",
       "      <th>companyId</th>\n",
       "      <th></th>\n",
       "      <th></th>\n",
       "      <th></th>\n",
       "    </tr>\n",
       "  </thead>\n",
       "  <tbody>\n",
       "    <tr>\n",
       "      <th>COMP0</th>\n",
       "      <td>12.075401</td>\n",
       "      <td>49.843772</td>\n",
       "      <td>115.970057</td>\n",
       "    </tr>\n",
       "    <tr>\n",
       "      <th>COMP1</th>\n",
       "      <td>11.902687</td>\n",
       "      <td>49.386469</td>\n",
       "      <td>116.056655</td>\n",
       "    </tr>\n",
       "    <tr>\n",
       "      <th>COMP10</th>\n",
       "      <td>11.877397</td>\n",
       "      <td>49.458095</td>\n",
       "      <td>116.028544</td>\n",
       "    </tr>\n",
       "    <tr>\n",
       "      <th>COMP11</th>\n",
       "      <td>12.021550</td>\n",
       "      <td>49.687272</td>\n",
       "      <td>116.116005</td>\n",
       "    </tr>\n",
       "    <tr>\n",
       "      <th>COMP12</th>\n",
       "      <td>12.041830</td>\n",
       "      <td>49.786792</td>\n",
       "      <td>116.099886</td>\n",
       "    </tr>\n",
       "    <tr>\n",
       "      <th>COMP13</th>\n",
       "      <td>12.101874</td>\n",
       "      <td>49.671243</td>\n",
       "      <td>116.567613</td>\n",
       "    </tr>\n",
       "    <tr>\n",
       "      <th>COMP14</th>\n",
       "      <td>12.054134</td>\n",
       "      <td>49.331279</td>\n",
       "      <td>116.315561</td>\n",
       "    </tr>\n",
       "    <tr>\n",
       "      <th>COMP15</th>\n",
       "      <td>11.923198</td>\n",
       "      <td>49.786829</td>\n",
       "      <td>115.853944</td>\n",
       "    </tr>\n",
       "    <tr>\n",
       "      <th>COMP16</th>\n",
       "      <td>11.981686</td>\n",
       "      <td>49.266223</td>\n",
       "      <td>116.370342</td>\n",
       "    </tr>\n",
       "    <tr>\n",
       "      <th>COMP17</th>\n",
       "      <td>11.904671</td>\n",
       "      <td>49.503500</td>\n",
       "      <td>116.320224</td>\n",
       "    </tr>\n",
       "  </tbody>\n",
       "</table>\n",
       "</div>"
      ],
      "text/plain": [
       "           yearsExperience  milesFromMetropolis      salary\n",
       "companyId                                                  \n",
       "COMP0            12.075401            49.843772  115.970057\n",
       "COMP1            11.902687            49.386469  116.056655\n",
       "COMP10           11.877397            49.458095  116.028544\n",
       "COMP11           12.021550            49.687272  116.116005\n",
       "COMP12           12.041830            49.786792  116.099886\n",
       "COMP13           12.101874            49.671243  116.567613\n",
       "COMP14           12.054134            49.331279  116.315561\n",
       "COMP15           11.923198            49.786829  115.853944\n",
       "COMP16           11.981686            49.266223  116.370342\n",
       "COMP17           11.904671            49.503500  116.320224"
      ]
     },
     "execution_count": 13,
     "metadata": {},
     "output_type": "execute_result"
    }
   ],
   "source": [
    "#checking the differences between groups, and plotting them if necessary\n",
    "companyId_summary=df.groupby(\"companyId\")\n",
    "companyId_summary.mean().head(10)"
   ]
  },
  {
   "cell_type": "code",
   "execution_count": 14,
   "metadata": {},
   "outputs": [
    {
     "data": {
      "text/html": [
       "<div>\n",
       "<style scoped>\n",
       "    .dataframe tbody tr th:only-of-type {\n",
       "        vertical-align: middle;\n",
       "    }\n",
       "\n",
       "    .dataframe tbody tr th {\n",
       "        vertical-align: top;\n",
       "    }\n",
       "\n",
       "    .dataframe thead th {\n",
       "        text-align: right;\n",
       "    }\n",
       "</style>\n",
       "<table border=\"1\" class=\"dataframe\">\n",
       "  <thead>\n",
       "    <tr style=\"text-align: right;\">\n",
       "      <th></th>\n",
       "      <th>yearsExperience</th>\n",
       "      <th>milesFromMetropolis</th>\n",
       "      <th>salary</th>\n",
       "    </tr>\n",
       "    <tr>\n",
       "      <th>degree</th>\n",
       "      <th></th>\n",
       "      <th></th>\n",
       "      <th></th>\n",
       "    </tr>\n",
       "  </thead>\n",
       "  <tbody>\n",
       "    <tr>\n",
       "      <th>BACHELORS</th>\n",
       "      <td>11.985971</td>\n",
       "      <td>49.589377</td>\n",
       "      <td>125.454887</td>\n",
       "    </tr>\n",
       "    <tr>\n",
       "      <th>DOCTORAL</th>\n",
       "      <td>12.003330</td>\n",
       "      <td>49.608671</td>\n",
       "      <td>135.491660</td>\n",
       "    </tr>\n",
       "    <tr>\n",
       "      <th>HIGH_SCHOOL</th>\n",
       "      <td>11.996087</td>\n",
       "      <td>49.456664</td>\n",
       "      <td>101.930078</td>\n",
       "    </tr>\n",
       "    <tr>\n",
       "      <th>MASTERS</th>\n",
       "      <td>11.984964</td>\n",
       "      <td>49.553572</td>\n",
       "      <td>130.505844</td>\n",
       "    </tr>\n",
       "    <tr>\n",
       "      <th>NONE</th>\n",
       "      <td>11.991743</td>\n",
       "      <td>49.476235</td>\n",
       "      <td>98.184684</td>\n",
       "    </tr>\n",
       "  </tbody>\n",
       "</table>\n",
       "</div>"
      ],
      "text/plain": [
       "             yearsExperience  milesFromMetropolis      salary\n",
       "degree                                                       \n",
       "BACHELORS          11.985971            49.589377  125.454887\n",
       "DOCTORAL           12.003330            49.608671  135.491660\n",
       "HIGH_SCHOOL        11.996087            49.456664  101.930078\n",
       "MASTERS            11.984964            49.553572  130.505844\n",
       "NONE               11.991743            49.476235   98.184684"
      ]
     },
     "execution_count": 14,
     "metadata": {},
     "output_type": "execute_result"
    }
   ],
   "source": [
    "degree_summary = df.groupby(\"degree\")\n",
    "degree_summary.mean()"
   ]
  },
  {
   "cell_type": "code",
   "execution_count": 15,
   "metadata": {
    "scrolled": true
   },
   "outputs": [
    {
     "data": {
      "image/png": "[encoded data removed]",
      "text/plain": [
       "<Figure size 648x288 with 1 Axes>"
      ]
     },
     "metadata": {
      "needs_background": "light"
     },
     "output_type": "display_data"
    }
   ],
   "source": [
    "plt.figure(figsize=(9,4))\n",
    "sns.boxplot(x=df[\"degree\"],y=df[\"salary\"], \n",
    "            palette=(\"GnBu_d\"), order=[\"DOCTORAL\",\"MASTERS\",\"BACHELORS\",\"HIGH_SCHOOL\",\"NONE\"])\n",
    "sns.set(style=\"whitegrid\")\n",
    "plt.xlabel(\"Degree\")\n",
    "plt.ylabel(\"Salary\")\n",
    "plt.show()"
   ]
  },
  {
   "cell_type": "code",
   "execution_count": 16,
   "metadata": {
    "scrolled": true
   },
   "outputs": [
    {
     "data": {
      "text/html": [
       "<div>\n",
       "<style scoped>\n",
       "    .dataframe tbody tr th:only-of-type {\n",
       "        vertical-align: middle;\n",
       "    }\n",
       "\n",
       "    .dataframe tbody tr th {\n",
       "        vertical-align: top;\n",
       "    }\n",
       "\n",
       "    .dataframe thead th {\n",
       "        text-align: right;\n",
       "    }\n",
       "</style>\n",
       "<table border=\"1\" class=\"dataframe\">\n",
       "  <thead>\n",
       "    <tr style=\"text-align: right;\">\n",
       "      <th></th>\n",
       "      <th>yearsExperience</th>\n",
       "      <th>milesFromMetropolis</th>\n",
       "      <th>salary</th>\n",
       "    </tr>\n",
       "    <tr>\n",
       "      <th>jobType</th>\n",
       "      <th></th>\n",
       "      <th></th>\n",
       "      <th></th>\n",
       "    </tr>\n",
       "  </thead>\n",
       "  <tbody>\n",
       "    <tr>\n",
       "      <th>CEO</th>\n",
       "      <td>11.998149</td>\n",
       "      <td>49.477947</td>\n",
       "      <td>145.313280</td>\n",
       "    </tr>\n",
       "    <tr>\n",
       "      <th>CFO</th>\n",
       "      <td>11.990632</td>\n",
       "      <td>49.572544</td>\n",
       "      <td>135.459372</td>\n",
       "    </tr>\n",
       "    <tr>\n",
       "      <th>CTO</th>\n",
       "      <td>12.010421</td>\n",
       "      <td>49.579624</td>\n",
       "      <td>135.481310</td>\n",
       "    </tr>\n",
       "    <tr>\n",
       "      <th>JANITOR</th>\n",
       "      <td>11.971010</td>\n",
       "      <td>49.437723</td>\n",
       "      <td>70.821741</td>\n",
       "    </tr>\n",
       "    <tr>\n",
       "      <th>JUNIOR</th>\n",
       "      <td>11.992791</td>\n",
       "      <td>49.659437</td>\n",
       "      <td>95.335627</td>\n",
       "    </tr>\n",
       "    <tr>\n",
       "      <th>MANAGER</th>\n",
       "      <td>11.987123</td>\n",
       "      <td>49.498146</td>\n",
       "      <td>115.369547</td>\n",
       "    </tr>\n",
       "    <tr>\n",
       "      <th>SENIOR</th>\n",
       "      <td>11.996902</td>\n",
       "      <td>49.572885</td>\n",
       "      <td>105.489449</td>\n",
       "    </tr>\n",
       "    <tr>\n",
       "      <th>VICE_PRESIDENT</th>\n",
       "      <td>11.993739</td>\n",
       "      <td>49.428028</td>\n",
       "      <td>125.371106</td>\n",
       "    </tr>\n",
       "  </tbody>\n",
       "</table>\n",
       "</div>"
      ],
      "text/plain": [
       "                yearsExperience  milesFromMetropolis      salary\n",
       "jobType                                                         \n",
       "CEO                   11.998149            49.477947  145.313280\n",
       "CFO                   11.990632            49.572544  135.459372\n",
       "CTO                   12.010421            49.579624  135.481310\n",
       "JANITOR               11.971010            49.437723   70.821741\n",
       "JUNIOR                11.992791            49.659437   95.335627\n",
       "MANAGER               11.987123            49.498146  115.369547\n",
       "SENIOR                11.996902            49.572885  105.489449\n",
       "VICE_PRESIDENT        11.993739            49.428028  125.371106"
      ]
     },
     "execution_count": 16,
     "metadata": {},
     "output_type": "execute_result"
    }
   ],
   "source": [
    "jobType_summary = df.groupby(\"jobType\")\n",
    "jobType_summary.mean()"
   ]
  },
  {
   "cell_type": "code",
   "execution_count": 17,
   "metadata": {
    "scrolled": false
   },
   "outputs": [
    {
     "data": {
      "image/png": "[encoded data removed]",
      "text/plain": [
       "<Figure size 792x288 with 1 Axes>"
      ]
     },
     "metadata": {},
     "output_type": "display_data"
    }
   ],
   "source": [
    "plt.figure(figsize=(11,4))\n",
    "sns.boxplot(x=df[\"jobType\"],y=df[\"salary\"], \n",
    "            palette=(\"GnBu_d\"), order=[\"CEO\",\"CTO\",\"CFO\",\"VICE_PRESIDENT\",\"MANAGER\",\"SENIOR\",\"JUNIOR\",\"JANITOR\"])\n",
    "sns.set(style=\"whitegrid\")\n",
    "plt.xlabel(\"Job Type\")\n",
    "plt.ylabel(\"Salary\")\n",
    "plt.show()"
   ]
  },
  {
   "cell_type": "code",
   "execution_count": 18,
   "metadata": {},
   "outputs": [
    {
     "data": {
      "text/html": [
       "<div>\n",
       "<style scoped>\n",
       "    .dataframe tbody tr th:only-of-type {\n",
       "        vertical-align: middle;\n",
       "    }\n",
       "\n",
       "    .dataframe tbody tr th {\n",
       "        vertical-align: top;\n",
       "    }\n",
       "\n",
       "    .dataframe thead th {\n",
       "        text-align: right;\n",
       "    }\n",
       "</style>\n",
       "<table border=\"1\" class=\"dataframe\">\n",
       "  <thead>\n",
       "    <tr style=\"text-align: right;\">\n",
       "      <th></th>\n",
       "      <th>yearsExperience</th>\n",
       "      <th>milesFromMetropolis</th>\n",
       "      <th>salary</th>\n",
       "    </tr>\n",
       "    <tr>\n",
       "      <th>major</th>\n",
       "      <th></th>\n",
       "      <th></th>\n",
       "      <th></th>\n",
       "    </tr>\n",
       "  </thead>\n",
       "  <tbody>\n",
       "    <tr>\n",
       "      <th>BIOLOGY</th>\n",
       "      <td>11.991075</td>\n",
       "      <td>49.522322</td>\n",
       "      <td>127.934354</td>\n",
       "    </tr>\n",
       "    <tr>\n",
       "      <th>BUSINESS</th>\n",
       "      <td>12.011244</td>\n",
       "      <td>49.630251</td>\n",
       "      <td>135.648980</td>\n",
       "    </tr>\n",
       "    <tr>\n",
       "      <th>CHEMISTRY</th>\n",
       "      <td>11.975303</td>\n",
       "      <td>49.553589</td>\n",
       "      <td>129.072324</td>\n",
       "    </tr>\n",
       "    <tr>\n",
       "      <th>COMPSCI</th>\n",
       "      <td>11.978966</td>\n",
       "      <td>49.675374</td>\n",
       "      <td>132.075795</td>\n",
       "    </tr>\n",
       "    <tr>\n",
       "      <th>ENGINEERING</th>\n",
       "      <td>11.987883</td>\n",
       "      <td>49.577619</td>\n",
       "      <td>138.441342</td>\n",
       "    </tr>\n",
       "    <tr>\n",
       "      <th>LITERATURE</th>\n",
       "      <td>12.010991</td>\n",
       "      <td>49.694363</td>\n",
       "      <td>124.423097</td>\n",
       "    </tr>\n",
       "    <tr>\n",
       "      <th>MATH</th>\n",
       "      <td>11.992266</td>\n",
       "      <td>49.423045</td>\n",
       "      <td>133.322042</td>\n",
       "    </tr>\n",
       "    <tr>\n",
       "      <th>NONE</th>\n",
       "      <td>11.993534</td>\n",
       "      <td>49.483579</td>\n",
       "      <td>102.592129</td>\n",
       "    </tr>\n",
       "    <tr>\n",
       "      <th>PHYSICS</th>\n",
       "      <td>11.984625</td>\n",
       "      <td>49.554017</td>\n",
       "      <td>130.373408</td>\n",
       "    </tr>\n",
       "  </tbody>\n",
       "</table>\n",
       "</div>"
      ],
      "text/plain": [
       "             yearsExperience  milesFromMetropolis      salary\n",
       "major                                                        \n",
       "BIOLOGY            11.991075            49.522322  127.934354\n",
       "BUSINESS           12.011244            49.630251  135.648980\n",
       "CHEMISTRY          11.975303            49.553589  129.072324\n",
       "COMPSCI            11.978966            49.675374  132.075795\n",
       "ENGINEERING        11.987883            49.577619  138.441342\n",
       "LITERATURE         12.010991            49.694363  124.423097\n",
       "MATH               11.992266            49.423045  133.322042\n",
       "NONE               11.993534            49.483579  102.592129\n",
       "PHYSICS            11.984625            49.554017  130.373408"
      ]
     },
     "execution_count": 18,
     "metadata": {},
     "output_type": "execute_result"
    }
   ],
   "source": [
    "major_summary = df.groupby(\"major\")\n",
    "major_summary.mean()"
   ]
  },
  {
   "cell_type": "code",
   "execution_count": 19,
   "metadata": {
    "scrolled": false
   },
   "outputs": [
    {
     "data": {
      "text/html": [
       "<div>\n",
       "<style scoped>\n",
       "    .dataframe tbody tr th:only-of-type {\n",
       "        vertical-align: middle;\n",
       "    }\n",
       "\n",
       "    .dataframe tbody tr th {\n",
       "        vertical-align: top;\n",
       "    }\n",
       "\n",
       "    .dataframe thead th {\n",
       "        text-align: right;\n",
       "    }\n",
       "</style>\n",
       "<table border=\"1\" class=\"dataframe\">\n",
       "  <thead>\n",
       "    <tr style=\"text-align: right;\">\n",
       "      <th></th>\n",
       "      <th>yearsExperience</th>\n",
       "      <th>milesFromMetropolis</th>\n",
       "      <th>salary</th>\n",
       "    </tr>\n",
       "    <tr>\n",
       "      <th>industry</th>\n",
       "      <th></th>\n",
       "      <th></th>\n",
       "      <th></th>\n",
       "    </tr>\n",
       "  </thead>\n",
       "  <tbody>\n",
       "    <tr>\n",
       "      <th>AUTO</th>\n",
       "      <td>11.974767</td>\n",
       "      <td>49.551268</td>\n",
       "      <td>109.443050</td>\n",
       "    </tr>\n",
       "    <tr>\n",
       "      <th>EDUCATION</th>\n",
       "      <td>12.000749</td>\n",
       "      <td>49.585029</td>\n",
       "      <td>99.456573</td>\n",
       "    </tr>\n",
       "    <tr>\n",
       "      <th>FINANCE</th>\n",
       "      <td>12.009780</td>\n",
       "      <td>49.531775</td>\n",
       "      <td>130.752100</td>\n",
       "    </tr>\n",
       "    <tr>\n",
       "      <th>HEALTH</th>\n",
       "      <td>11.973068</td>\n",
       "      <td>49.501443</td>\n",
       "      <td>115.742622</td>\n",
       "    </tr>\n",
       "    <tr>\n",
       "      <th>OIL</th>\n",
       "      <td>12.006494</td>\n",
       "      <td>49.488946</td>\n",
       "      <td>130.957452</td>\n",
       "    </tr>\n",
       "    <tr>\n",
       "      <th>SERVICE</th>\n",
       "      <td>11.994776</td>\n",
       "      <td>49.577169</td>\n",
       "      <td>104.452472</td>\n",
       "    </tr>\n",
       "    <tr>\n",
       "      <th>WEB</th>\n",
       "      <td>11.988602</td>\n",
       "      <td>49.462295</td>\n",
       "      <td>121.652428</td>\n",
       "    </tr>\n",
       "  </tbody>\n",
       "</table>\n",
       "</div>"
      ],
      "text/plain": [
       "           yearsExperience  milesFromMetropolis      salary\n",
       "industry                                                   \n",
       "AUTO             11.974767            49.551268  109.443050\n",
       "EDUCATION        12.000749            49.585029   99.456573\n",
       "FINANCE          12.009780            49.531775  130.752100\n",
       "HEALTH           11.973068            49.501443  115.742622\n",
       "OIL              12.006494            49.488946  130.957452\n",
       "SERVICE          11.994776            49.577169  104.452472\n",
       "WEB              11.988602            49.462295  121.652428"
      ]
     },
     "execution_count": 19,
     "metadata": {},
     "output_type": "execute_result"
    }
   ],
   "source": [
    "industry_summary = df.groupby(\"industry\")\n",
    "industry_summary.mean()"
   ]
  },
  {
   "cell_type": "code",
   "execution_count": 20,
   "metadata": {},
   "outputs": [
    {
     "data": {
      "image/png": "[encoded data removed]",
      "text/plain": [
       "<Figure size 792x288 with 1 Axes>"
      ]
     },
     "metadata": {},
     "output_type": "display_data"
    }
   ],
   "source": [
    "plt.figure(figsize=(11,4))\n",
    "sns.boxplot(x=df[\"industry\"],y=df[\"salary\"], palette=(\"GnBu_d\"),\n",
    "           order=[\"OIL\",\"FINANCE\",\"WEB\",\"HEALTH\",\"AUTO\",\"SERVICE\",\"EDUCATION\"])\n",
    "sns.set(style=\"whitegrid\")\n",
    "plt.xlabel(\"Industry\")\n",
    "plt.ylabel(\"Salary\")\n",
    "plt.show()"
   ]
  },
  {
   "cell_type": "markdown",
   "metadata": {},
   "source": [
    "Overall, all categorical variables show no mean differences between the categories and years of experience, or number of miles from Metropolis. The only differences in general seem to be in differences in salary.\n",
    "\n",
    "We can see there is a difference between observations with high school/no education, and observations with master's/doctoral/bachelor's degrees, which have slight differences between each other as well. The job type bar graph does not say anything surprising about the data again, CEO observations have the highest salary, and janitor observations have the lowest. The mean differences between the majors are minimal, with the only significant visible difference is having a major or not having a major. There are differences between industries, with oil and finance being the with the highest mean, and service and education the lowest."
   ]
  },
  {
   "cell_type": "code",
   "execution_count": 21,
   "metadata": {
    "scrolled": false
   },
   "outputs": [
    {
     "data": {
      "image/png": "[encoded data removed]",
      "text/plain": [
       "<Figure size 1080x1440 with 10 Axes>"
      ]
     },
     "metadata": {},
     "output_type": "display_data"
    }
   ],
   "source": [
    "#creating a countplot for each categorical variable presented as a subplot\n",
    "sns.set(style=\"whitegrid\")\n",
    "fig, ax = plt.subplots(5, 1, figsize=(15, 20))\n",
    "plt.setp(plt.gcf().get_axes(), xticks=[], yticks=[]);\n",
    "ax = fig.add_subplot(5, 1, 1)\n",
    "sns.countplot(df['companyId'])\n",
    "ax.xaxis.set_major_formatter(plt.NullFormatter())\n",
    "plt.xlabel(\"Company ID\")\n",
    "ax = fig.add_subplot(5, 1, 2)\n",
    "sns.countplot(df['jobType'])\n",
    "plt.xlabel(\"Job Type\")\n",
    "ax = fig.add_subplot(5, 1, 3)\n",
    "sns.countplot(df['major'])\n",
    "plt.xlabel(\"Major\")\n",
    "ax = fig.add_subplot(5, 1, 4)\n",
    "sns.countplot(df['industry'])\n",
    "plt.xlabel(\"Industry\")\n",
    "ax = fig.add_subplot(5, 1, 5)\n",
    "sns.countplot(df['degree'])\n",
    "plt.xlabel(\"Degree\")\n",
    "plt.subplots_adjust(top = 0.9)\n",
    "plt.show()"
   ]
  },
  {
   "cell_type": "markdown",
   "metadata": {},
   "source": [
    "This dataset seems extremely balanced in terms of distribution of each categorical variable: the job type count is roughly the same for all job types, there is only slightly more people with no major/without post-secondary education in the dataset than their counterparts, and all industries and companies are represented roughly equally. This is a good sample in no need for applying any resampling methods."
   ]
  },
  {
   "cell_type": "markdown",
   "metadata": {},
   "source": [
    "Let's take a look at numerical variables."
   ]
  },
  {
   "cell_type": "code",
   "execution_count": 22,
   "metadata": {},
   "outputs": [
    {
     "data": {
      "image/png": "[encoded data removed]",
      "text/plain": [
       "<Figure size 1080x432 with 6 Axes>"
      ]
     },
     "metadata": {},
     "output_type": "display_data"
    }
   ],
   "source": [
    "#defining a group of numerical variables\n",
    "num = df.select_dtypes(include=[np.int64])\n",
    "\n",
    "#distribution of numerical variables\n",
    "num.hist(bins=50, figsize=(15, 6), layout=(2, 3))\n",
    "plt.show()"
   ]
  },
  {
   "cell_type": "markdown",
   "metadata": {},
   "source": [
    "This compact representation of distribution of the numerical variables shows some valuable information. The distance from Metropolis seems very similar for all the observations, and shows a uniform distribution. The salary graph shows slight skewness to the right, but the shape overall follows normal distribution. The years of experience variable shows again a uniform shape. This is explained by good sampling, and again, there is no need for any resampling methods."
   ]
  },
  {
   "cell_type": "code",
   "execution_count": 23,
   "metadata": {
    "scrolled": false
   },
   "outputs": [
    {
     "data": {
      "image/png": "[encoded data removed]",
      "text/plain": [
       "<Figure size 432x288 with 1 Axes>"
      ]
     },
     "metadata": {},
     "output_type": "display_data"
    },
    {
     "data": {
      "image/png": "[encoded data removed]",
      "text/plain": [
       "<Figure size 432x288 with 1 Axes>"
      ]
     },
     "metadata": {},
     "output_type": "display_data"
    },
    {
     "data": {
      "image/png": "[encoded data removed]",
      "text/plain": [
       "<Figure size 432x288 with 1 Axes>"
      ]
     },
     "metadata": {},
     "output_type": "display_data"
    }
   ],
   "source": [
    "#drawing lineplots\n",
    "sns.lineplot(x=df['yearsExperience'], y=df['salary'], data=df)\n",
    "plt.show()\n",
    "\n",
    "sns.lineplot(x=df['milesFromMetropolis'], y=df['salary'], data=df, color=\"red\")\n",
    "plt.show()\n",
    "\n",
    "sns.lineplot(x=df['milesFromMetropolis'], y=df['yearsExperience'], data=df, color=\"yellow\")\n",
    "plt.show()"
   ]
  },
  {
   "cell_type": "markdown",
   "metadata": {},
   "source": [
    "From the above graphs, we can see that salaries generally decrease with larger distance from Metropolis. Also, salaries tend to increase with years of experience in general. There does not seem to be a relationship between years of experience and miles from Metropolis. "
   ]
  },
  {
   "cell_type": "code",
   "execution_count": 24,
   "metadata": {
    "scrolled": false
   },
   "outputs": [
    {
     "data": {
      "image/png": "[encoded data removed]",
      "text/plain": [
       "<Figure size 432x288 with 2 Axes>"
      ]
     },
     "metadata": {},
     "output_type": "display_data"
    },
    {
     "data": {
      "text/html": [
       "<div>\n",
       "<style scoped>\n",
       "    .dataframe tbody tr th:only-of-type {\n",
       "        vertical-align: middle;\n",
       "    }\n",
       "\n",
       "    .dataframe tbody tr th {\n",
       "        vertical-align: top;\n",
       "    }\n",
       "\n",
       "    .dataframe thead th {\n",
       "        text-align: right;\n",
       "    }\n",
       "</style>\n",
       "<table border=\"1\" class=\"dataframe\">\n",
       "  <thead>\n",
       "    <tr style=\"text-align: right;\">\n",
       "      <th></th>\n",
       "      <th>yearsExperience</th>\n",
       "      <th>milesFromMetropolis</th>\n",
       "      <th>salary</th>\n",
       "    </tr>\n",
       "  </thead>\n",
       "  <tbody>\n",
       "    <tr>\n",
       "      <th>yearsExperience</th>\n",
       "      <td>1.000000</td>\n",
       "      <td>0.000673</td>\n",
       "      <td>0.374991</td>\n",
       "    </tr>\n",
       "    <tr>\n",
       "      <th>milesFromMetropolis</th>\n",
       "      <td>0.000673</td>\n",
       "      <td>1.000000</td>\n",
       "      <td>-0.297679</td>\n",
       "    </tr>\n",
       "    <tr>\n",
       "      <th>salary</th>\n",
       "      <td>0.374991</td>\n",
       "      <td>-0.297679</td>\n",
       "      <td>1.000000</td>\n",
       "    </tr>\n",
       "  </tbody>\n",
       "</table>\n",
       "</div>"
      ],
      "text/plain": [
       "                     yearsExperience  milesFromMetropolis    salary\n",
       "yearsExperience             1.000000             0.000673  0.374991\n",
       "milesFromMetropolis         0.000673             1.000000 -0.297679\n",
       "salary                      0.374991            -0.297679  1.000000"
      ]
     },
     "execution_count": 24,
     "metadata": {},
     "output_type": "execute_result"
    }
   ],
   "source": [
    "#creating a correlation heatmap and a correlation table\n",
    "sns.heatmap(df.corr())\n",
    "plt.show()\n",
    "df.corr()"
   ]
  },
  {
   "cell_type": "markdown",
   "metadata": {},
   "source": [
    "As expected, there is a positive correlation between years of experience and salary, and a slight negative correlation between miles from Metropolis and salary. There is no correlation between years of experience and miles from Metropolis.\n",
    "\n",
    "The EDA has shown valuable information: I am dealing with a balanced dataset, and the relationship between the dependent variable and the predictors seems to be linear."
   ]
  },
  {
   "cell_type": "markdown",
   "metadata": {},
   "source": [
    "Because this is a regression problem with the dependent variable being a continuous one, MSE is a simple and fitting choice to use it as a metric for my model. As my baseline model, I will use difference from average salary, since every ML model should be able to outperform differences from the mean."
   ]
  },
  {
   "cell_type": "code",
   "execution_count": 25,
   "metadata": {},
   "outputs": [],
   "source": [
    "#creating dummies, appending them to the original dataset, and dropping the original columns\n",
    "dummy_1 = pd.get_dummies(df[\"jobType\"])\n",
    "df = pd.concat([df, dummy_1], axis=1)\n",
    "df.drop(\"jobType\", axis = 1, inplace=True)\n",
    "\n",
    "dummy_2 = pd.get_dummies(df[\"industry\"])\n",
    "df = pd.concat([df, dummy_2], axis=1)\n",
    "df.drop(\"industry\", axis = 1, inplace=True)\n",
    "\n",
    "dummy_3 = pd.get_dummies(df[\"degree\"], prefix='degree')\n",
    "df = pd.concat([df, dummy_3], axis=1)\n",
    "df.drop(\"degree\", axis = 1, inplace=True)\n",
    "\n",
    "dummy_4 = pd.get_dummies(df[\"major\"], prefix='major')\n",
    "df = pd.concat([df, dummy_4], axis=1)\n",
    "df.drop(\"major\", axis = 1, inplace=True)\n",
    "\n",
    "dummy_5 = pd.get_dummies(df[\"companyId\"])\n",
    "df = pd.concat([df, dummy_5], axis=1)\n",
    "df.drop(\"companyId\", axis = 1, inplace=True)"
   ]
  },
  {
   "cell_type": "code",
   "execution_count": 26,
   "metadata": {},
   "outputs": [
    {
     "name": "stdout",
     "output_type": "stream",
     "text": [
      "The MSE of the model using just means is: 1498.8370256094317\n"
     ]
    }
   ],
   "source": [
    "#creating a new dataset only containing \"salary\"\n",
    "target = df[\"salary\"]\n",
    "\n",
    "#creating a baseline model, using just average, manually computing MSE\n",
    "target_mean = target.mean()\n",
    "df[\"salary_pred\"]= target_mean\n",
    "df[\"salary_dif\"]=df[\"salary\"]-df[\"salary_pred\"]\n",
    "df[\"salary_dif_squared\"]=df[\"salary_dif\"]**2\n",
    "df[\"salary_sum\"]=df[\"salary_dif_squared\"].sum()\n",
    "df[\"salary_MSE\"]=df[\"salary_sum\"]/df[\"salary_sum\"].count()\n",
    "print(\"The MSE of the model using just means is:\", df[\"salary_MSE\"][0])\n",
    "\n",
    "#dropping the variables from the dataset\n",
    "df.drop([\"salary\",\"salary_pred\",\"salary_dif\",\"salary_dif_squared\",\"salary_sum\",\"salary_MSE\"], axis=1,inplace=True)"
   ]
  },
  {
   "cell_type": "markdown",
   "metadata": {},
   "source": [
    "The MSE from my simple model using only means is very high, I need to come up with models that will improve the MSE. My models of choice are:\n",
    "\n",
    "- Linear Regression: as seen in the EDA, our data follows a relatively linear shape\n",
    "- Decision Trees: just like linear regression, it is a basic and fast approach for modeling, and performs well with linear relationships\n",
    "- Gradient Boosting: because this is a regression problem, gradient boosting offers great way for weak learners to improve their performance, and is often used to minimize the MSE"
   ]
  },
  {
   "cell_type": "markdown",
   "metadata": {},
   "source": [
    "## DEVELOP"
   ]
  },
  {
   "cell_type": "code",
   "execution_count": 27,
   "metadata": {},
   "outputs": [
    {
     "name": "stdout",
     "output_type": "stream",
     "text": [
      "The average MSE of the linear regression: 384.48714488650154\n"
     ]
    }
   ],
   "source": [
    "#calculating MSE for Linear Regression\n",
    "\n",
    "#importing packages\n",
    "from sklearn.linear_model import LinearRegression\n",
    "from sklearn import metrics\n",
    "from sklearn.model_selection import cross_val_score\n",
    "\n",
    "#fitting the model\n",
    "lm = LinearRegression()\n",
    "lm.fit(df,target)\n",
    "\n",
    "#measuring MSE during 5-fold cross-validation and printing the result\n",
    "lm_scores = cross_val_score(lm,df,target,scoring=\"neg_mean_squared_error\")\n",
    "lm_mse = -1*lm_scores.mean()\n",
    "print(\"The average MSE of the linear regression:\", lm_mse)\n"
   ]
  },
  {
   "cell_type": "code",
   "execution_count": 28,
   "metadata": {},
   "outputs": [
    {
     "name": "stdout",
     "output_type": "stream",
     "text": [
      "Average MSE of the decision tree model: 701.0081428279989\n"
     ]
    }
   ],
   "source": [
    "#calculating MSE for Decision Trees, repeating the process\n",
    "from sklearn import tree\n",
    "\n",
    "dt = tree.DecisionTreeRegressor()\n",
    "dt.fit(df,target)\n",
    "\n",
    "dt_scores = cross_val_score(dt,df,target,scoring=\"neg_mean_squared_error\")\n",
    "dt_mse = -1*dt_scores.mean()\n",
    "print(\"Average MSE of the decision tree model:\", dt_mse)"
   ]
  },
  {
   "cell_type": "code",
   "execution_count": 29,
   "metadata": {},
   "outputs": [
    {
     "name": "stdout",
     "output_type": "stream",
     "text": [
      "Average MSE of the gradient boosting model: 356.8957609420628\n"
     ]
    }
   ],
   "source": [
    "#calculating MSE for Gradient Boosting, repeating the process\n",
    "from sklearn.ensemble import GradientBoostingRegressor\n",
    "\n",
    "gb = GradientBoostingRegressor(n_estimators=150, max_depth=5)\n",
    "gb.fit(df,target)\n",
    "\n",
    "gb_scores = cross_val_score(gb,df,target,scoring=\"neg_mean_squared_error\")\n",
    "gb_mse = -1*gb_scores.mean()\n",
    "print(\"Average MSE of the gradient boosting model:\", gb_mse)"
   ]
  },
  {
   "cell_type": "markdown",
   "metadata": {},
   "source": [
    "The lowest average MSE has been reached by the gradient boosting model. I will use this result to score the test dataset, and analyze which features are the most important for the prediction."
   ]
  },
  {
   "cell_type": "markdown",
   "metadata": {},
   "source": [
    "## DEPLOY"
   ]
  },
  {
   "cell_type": "markdown",
   "metadata": {},
   "source": [
    "### ---- 11 Automate pipeline ----"
   ]
  },
  {
   "cell_type": "code",
   "execution_count": 30,
   "metadata": {
    "scrolled": true
   },
   "outputs": [
    {
     "name": "stdout",
     "output_type": "stream",
     "text": [
      "The model used is: GradientBoostingRegressor(alpha=0.9, ccp_alpha=0.0, criterion='friedman_mse',\n",
      "                          init=None, learning_rate=0.1, loss='ls', max_depth=5,\n",
      "                          max_features=None, max_leaf_nodes=None,\n",
      "                          min_impurity_decrease=0.0, min_impurity_split=None,\n",
      "                          min_samples_leaf=1, min_samples_split=2,\n",
      "                          min_weight_fraction_leaf=0.0, n_estimators=150,\n",
      "                          n_iter_no_change=None, presort='deprecated',\n",
      "                          random_state=None, subsample=1.0, tol=0.0001,\n",
      "                          validation_fraction=0.1, verbose=0, warm_start=False)\n"
     ]
    }
   ],
   "source": [
    "#write script that trains model on entire training set, saves model to disk,\n",
    "#and scores the \"test\" dataset\n",
    "#this means starting from the beginning entirely, and simplify the code written\n",
    "\n",
    "#saving the gradient boosting model\n",
    "import joblib\n",
    "joblib_file = \"GB_salary_model.pkl\"\n",
    "joblib.dump(gb, joblib_file)\n",
    "\n",
    "#loading the saved model\n",
    "model = joblib.load(\"GB_salary_model.pkl\")\n",
    "print(\"The model used is:\", model)"
   ]
  },
  {
   "cell_type": "code",
   "execution_count": 31,
   "metadata": {},
   "outputs": [],
   "source": [
    "#pre-processing the test dataset\n",
    "df_test_no_duplicates = df_test.drop('jobId', axis=1).drop_duplicates()\n",
    "df_test = df_test_no_duplicates\n",
    "del df_test_no_duplicates"
   ]
  },
  {
   "cell_type": "code",
   "execution_count": 32,
   "metadata": {},
   "outputs": [],
   "source": [
    "#creating dummies\n",
    "dummy_test_1 = pd.get_dummies(df_test[\"jobType\"])\n",
    "df_test = pd.concat([df_test, dummy_test_1], axis=1)\n",
    "df_test.drop(\"jobType\", axis = 1, inplace=True)\n",
    "\n",
    "dummy_test_2 = pd.get_dummies(df_test[\"industry\"])\n",
    "df_test = pd.concat([df_test, dummy_test_2], axis=1)\n",
    "df_test.drop(\"industry\", axis = 1, inplace=True)\n",
    "\n",
    "dummy_test_3 = pd.get_dummies(df_test[\"degree\"], prefix=\"degree\")\n",
    "df_test = pd.concat([df_test, dummy_test_3], axis=1)\n",
    "df_test.drop(\"degree\", axis = 1, inplace=True)\n",
    "\n",
    "dummy_test_4 = pd.get_dummies(df_test[\"major\"], prefix=\"major\")\n",
    "df_test = pd.concat([df_test, dummy_test_4], axis=1)\n",
    "df_test.drop(\"major\", axis = 1, inplace=True)\n",
    "\n",
    "dummy_test_5 = pd.get_dummies(df_test[\"companyId\"])\n",
    "df_test = pd.concat([df_test, dummy_test_5], axis=1)\n",
    "df_test.drop(\"companyId\", axis = 1, inplace=True)"
   ]
  },
  {
   "cell_type": "code",
   "execution_count": 33,
   "metadata": {},
   "outputs": [],
   "source": [
    "#scoring the test dataset\n",
    "salary_predictions = model.predict(df_test)\n",
    "\n",
    "#saving the predictions\n",
    "np.savetxt('salary_predictions.csv', salary_predictions, delimiter=',')"
   ]
  },
  {
   "cell_type": "code",
   "execution_count": 34,
   "metadata": {},
   "outputs": [
    {
     "data": {
      "image/png": "[encoded data removed]",
      "text/plain": [
       "<Figure size 864x432 with 1 Axes>"
      ]
     },
     "metadata": {},
     "output_type": "display_data"
    }
   ],
   "source": [
    "#showing feature importances\n",
    "importances = pd.Series(model.feature_importances_, index=df.columns)\n",
    "importances.nlargest(10).plot(kind='bar', figsize=(12,6))\n",
    "plt.show()\n",
    "\n",
    "#saving feature importances\n",
    "np.savetxt('salary_importances.csv', importances, delimiter=',')"
   ]
  },
  {
   "cell_type": "markdown",
   "metadata": {},
   "source": [
    "## SUMMARY"
   ]
  },
  {
   "cell_type": "markdown",
   "metadata": {},
   "source": [
    "I have developed a model that is predicting future salaries of job postings based on salaries of current job postings. After performing the exploratory data analysis, I  fitted three models and compared their mean squared errors, basically comparing how well the models performed comparing to the baseline model, and also each other. The model performing the best with the train data was the gradient boosting model. I saved the model, scored the test data with it, and saved the results of the prediction in a csv file. I also included the analysis of feature importances, and saved it in a separate file."
   ]
  }
 ],
 "metadata": {
  "kernelspec": {
   "display_name": "Python 3",
   "language": "python",
   "name": "python3"
  },
  "language_info": {
   "codemirror_mode": {
    "name": "ipython",
    "version": 3
   },
   "file_extension": ".py",
   "mimetype": "text/x-python",
   "name": "python",
   "nbconvert_exporter": "python",
   "pygments_lexer": "ipython3",
   "version": "3.7.6"
  }
 },
 "nbformat": 4,
 "nbformat_minor": 2
}
